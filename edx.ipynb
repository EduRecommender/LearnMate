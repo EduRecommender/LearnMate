{
 "cells": [
  {
   "cell_type": "code",
   "execution_count": 2,
   "metadata": {},
   "outputs": [],
   "source": [
    "import numpy as np\n",
    "import pandas as pd"
   ]
  },
  {
   "cell_type": "code",
   "execution_count": 1,
   "metadata": {},
   "outputs": [
    {
     "name": "stderr",
     "output_type": "stream",
     "text": [
      "/home/ajtaboada/.local/lib/python3.10/site-packages/tqdm/auto.py:21: TqdmWarning: IProgress not found. Please update jupyter and ipywidgets. See https://ipywidgets.readthedocs.io/en/stable/user_install.html\n",
      "  from .autonotebook import tqdm as notebook_tqdm\n"
     ]
    },
    {
     "name": "stdout",
     "output_type": "stream",
     "text": [
      "Warning: Looks like you're using an outdated `kagglehub` version (installed: 0.3.6), please consider upgrading to the latest version (0.3.7).\n",
      "Path to dataset files: /home/ajtaboada/.cache/kagglehub/datasets/khusheekapoor/edx-courses-dataset-2021/versions/1\n"
     ]
    }
   ],
   "source": [
    "import kagglehub\n",
    "\n",
    "# Download latest version\n",
    "path = kagglehub.dataset_download(\"khusheekapoor/edx-courses-dataset-2021\")\n",
    "\n",
    "print(\"Path to dataset files:\", path)"
   ]
  },
  {
   "cell_type": "code",
   "execution_count": 6,
   "metadata": {},
   "outputs": [
    {
     "name": "stdout",
     "output_type": "stream",
     "text": [
      "Files in dataset directory: ['EdX.csv']\n"
     ]
    }
   ],
   "source": [
    "import os\n",
    "\n",
    "# List files in the dataset directory\n",
    "dataset_dir = path  # This is the directory you downloaded\n",
    "files = os.listdir(dataset_dir)\n",
    "print(\"Files in dataset directory:\", files)\n",
    "\n",
    "# Assuming there's a CSV file in the directory, read it into a DataFrame\n",
    "csv_file = os.path.join(dataset_dir, 'EdX.csv')  # Replace 'your_file_name.csv' with the actual file name\n",
    "data = pd.read_csv(csv_file)"
   ]
  },
  {
   "cell_type": "code",
   "execution_count": 10,
   "metadata": {},
   "outputs": [
    {
     "data": {
      "text/html": [
       "<div>\n",
       "<style scoped>\n",
       "    .dataframe tbody tr th:only-of-type {\n",
       "        vertical-align: middle;\n",
       "    }\n",
       "\n",
       "    .dataframe tbody tr th {\n",
       "        vertical-align: top;\n",
       "    }\n",
       "\n",
       "    .dataframe thead th {\n",
       "        text-align: right;\n",
       "    }\n",
       "</style>\n",
       "<table border=\"1\" class=\"dataframe\">\n",
       "  <thead>\n",
       "    <tr style=\"text-align: right;\">\n",
       "      <th></th>\n",
       "      <th>Name</th>\n",
       "      <th>University</th>\n",
       "      <th>Difficulty Level</th>\n",
       "      <th>Link</th>\n",
       "      <th>About</th>\n",
       "      <th>Course Description</th>\n",
       "    </tr>\n",
       "  </thead>\n",
       "  <tbody>\n",
       "    <tr>\n",
       "      <th>0</th>\n",
       "      <td>How to Learn Online</td>\n",
       "      <td>edX</td>\n",
       "      <td>Beginner</td>\n",
       "      <td>https://www.edx.org/course/how-to-learn-online</td>\n",
       "      <td>Learn essential strategies for successful onli...</td>\n",
       "      <td>Designed for those who are new to elearning, t...</td>\n",
       "    </tr>\n",
       "    <tr>\n",
       "      <th>1</th>\n",
       "      <td>Programming for Everybody (Getting Started wit...</td>\n",
       "      <td>The University of Michigan</td>\n",
       "      <td>Beginner</td>\n",
       "      <td>https://www.edx.org/course/programming-for-eve...</td>\n",
       "      <td>This course is a \"no prerequisite\" introductio...</td>\n",
       "      <td>This course aims to teach everyone the basics ...</td>\n",
       "    </tr>\n",
       "    <tr>\n",
       "      <th>2</th>\n",
       "      <td>CS50's Introduction to Computer Science</td>\n",
       "      <td>Harvard University</td>\n",
       "      <td>Beginner</td>\n",
       "      <td>https://www.edx.org/course/cs50s-introduction-...</td>\n",
       "      <td>An introduction to the intellectual enterprise...</td>\n",
       "      <td>This is CS50x , Harvard University's introduct...</td>\n",
       "    </tr>\n",
       "    <tr>\n",
       "      <th>3</th>\n",
       "      <td>The Analytics Edge</td>\n",
       "      <td>Massachusetts Institute of Technology</td>\n",
       "      <td>Intermediate</td>\n",
       "      <td>https://www.edx.org/course/the-analytics-edge</td>\n",
       "      <td>Through inspiring examples and stories, discov...</td>\n",
       "      <td>In the last decade, the amount of data availab...</td>\n",
       "    </tr>\n",
       "    <tr>\n",
       "      <th>4</th>\n",
       "      <td>Marketing Analytics: Marketing Measurement Str...</td>\n",
       "      <td>University of California, Berkeley</td>\n",
       "      <td>Beginner</td>\n",
       "      <td>https://www.edx.org/course/marketing-analytics...</td>\n",
       "      <td>This course is part of a MicroMasters® Program</td>\n",
       "      <td>Begin your journey in a new career in marketin...</td>\n",
       "    </tr>\n",
       "  </tbody>\n",
       "</table>\n",
       "</div>"
      ],
      "text/plain": [
       "                                                Name  \\\n",
       "0                                How to Learn Online   \n",
       "1  Programming for Everybody (Getting Started wit...   \n",
       "2            CS50's Introduction to Computer Science   \n",
       "3                                 The Analytics Edge   \n",
       "4  Marketing Analytics: Marketing Measurement Str...   \n",
       "\n",
       "                              University Difficulty Level  \\\n",
       "0                                    edX         Beginner   \n",
       "1             The University of Michigan         Beginner   \n",
       "2                     Harvard University         Beginner   \n",
       "3  Massachusetts Institute of Technology     Intermediate   \n",
       "4     University of California, Berkeley         Beginner   \n",
       "\n",
       "                                                Link  \\\n",
       "0     https://www.edx.org/course/how-to-learn-online   \n",
       "1  https://www.edx.org/course/programming-for-eve...   \n",
       "2  https://www.edx.org/course/cs50s-introduction-...   \n",
       "3      https://www.edx.org/course/the-analytics-edge   \n",
       "4  https://www.edx.org/course/marketing-analytics...   \n",
       "\n",
       "                                               About  \\\n",
       "0  Learn essential strategies for successful onli...   \n",
       "1  This course is a \"no prerequisite\" introductio...   \n",
       "2  An introduction to the intellectual enterprise...   \n",
       "3  Through inspiring examples and stories, discov...   \n",
       "4     This course is part of a MicroMasters® Program   \n",
       "\n",
       "                                  Course Description  \n",
       "0  Designed for those who are new to elearning, t...  \n",
       "1  This course aims to teach everyone the basics ...  \n",
       "2  This is CS50x , Harvard University's introduct...  \n",
       "3  In the last decade, the amount of data availab...  \n",
       "4  Begin your journey in a new career in marketin...  "
      ]
     },
     "execution_count": 10,
     "metadata": {},
     "output_type": "execute_result"
    }
   ],
   "source": [
    "data = pd.read_csv(csv_file)\n",
    "data.head()"
   ]
  },
  {
   "cell_type": "code",
   "execution_count": 11,
   "metadata": {},
   "outputs": [],
   "source": [
    "import pandas as pd\n",
    "from sklearn.feature_extraction.text import TfidfVectorizer\n",
    "from sklearn.metrics.pairwise import cosine_similarity\n",
    "\n",
    "# Assuming 'data' is your DataFrame\n",
    "# Step 1: Clean the Data\n",
    "data.dropna(inplace=True)  # Remove missing values\n",
    "data.drop_duplicates(inplace=True)  # Remove duplicates\n",
    "\n",
    "# Step 2: Text Normalization\n",
    "data['Course Description'] = data['Course Description'].str.lower()  # Lowercase\n",
    "data['About'] = data['About'].str.lower()  # Lowercase\n",
    "\n",
    "# Step 3: Combine relevant features for vectorization\n",
    "data['combined_features'] = data['Name'] + ' ' + data['About'] + ' ' + data['Course Description']\n",
    "\n",
    "# Step 4: Vectorization\n",
    "vectorizer = TfidfVectorizer()\n",
    "tfidf_matrix = vectorizer.fit_transform(data['combined_features'])\n",
    "\n",
    "# Step 5: Create a Similarity Matrix\n",
    "cosine_sim = cosine_similarity(tfidf_matrix, tfidf_matrix)\n",
    "\n",
    "# Now you can use 'cosine_sim' to recommend courses based on user input"
   ]
  },
  {
   "cell_type": "code",
   "execution_count": 14,
   "metadata": {},
   "outputs": [
    {
     "name": "stdout",
     "output_type": "stream",
     "text": [
      "Cosine Similarity Matrix:\n",
      "[[1.         0.10890569 0.16681949 ... 0.09328029 0.07217271 0.06965867]\n",
      " [0.10890569 1.         0.19848065 ... 0.09119756 0.10173518 0.13744779]\n",
      " [0.16681949 0.19848065 1.         ... 0.12668423 0.09110504 0.10398242]\n",
      " ...\n",
      " [0.09328029 0.09119756 0.12668423 ... 1.         0.08495621 0.10044155]\n",
      " [0.07217271 0.10173518 0.09110504 ... 0.08495621 1.         0.06437253]\n",
      " [0.06965867 0.13744779 0.10398242 ... 0.10044155 0.06437253 1.        ]]\n"
     ]
    }
   ],
   "source": [
    "# Display the similarity matrix\n",
    "print(\"Cosine Similarity Matrix:\")\n",
    "print(cosine_sim)"
   ]
  },
  {
   "cell_type": "code",
   "execution_count": 16,
   "metadata": {},
   "outputs": [
    {
     "name": "stdout",
     "output_type": "stream",
     "text": [
      "Recommended Courses:\n"
     ]
    },
    {
     "data": {
      "text/html": [
       "<div>\n",
       "<style scoped>\n",
       "    .dataframe tbody tr th:only-of-type {\n",
       "        vertical-align: middle;\n",
       "    }\n",
       "\n",
       "    .dataframe tbody tr th {\n",
       "        vertical-align: top;\n",
       "    }\n",
       "\n",
       "    .dataframe thead th {\n",
       "        text-align: right;\n",
       "    }\n",
       "</style>\n",
       "<table border=\"1\" class=\"dataframe\">\n",
       "  <thead>\n",
       "    <tr style=\"text-align: right;\">\n",
       "      <th></th>\n",
       "      <th>Name</th>\n",
       "      <th>University</th>\n",
       "      <th>Link</th>\n",
       "    </tr>\n",
       "  </thead>\n",
       "  <tbody>\n",
       "    <tr>\n",
       "      <th>62</th>\n",
       "      <td>Basics of Computing and Programming</td>\n",
       "      <td>New York University</td>\n",
       "      <td>https://www.edx.org/course/basics-of-computing...</td>\n",
       "    </tr>\n",
       "    <tr>\n",
       "      <th>137</th>\n",
       "      <td>Programming Basics</td>\n",
       "      <td>IITBombay</td>\n",
       "      <td>https://www.edx.org/course/programming-basics</td>\n",
       "    </tr>\n",
       "    <tr>\n",
       "      <th>273</th>\n",
       "      <td>Object-Oriented Programming</td>\n",
       "      <td>IITBombay</td>\n",
       "      <td>https://www.edx.org/course/object-oriented-pro...</td>\n",
       "    </tr>\n",
       "    <tr>\n",
       "      <th>1</th>\n",
       "      <td>Programming for Everybody (Getting Started wit...</td>\n",
       "      <td>The University of Michigan</td>\n",
       "      <td>https://www.edx.org/course/programming-for-eve...</td>\n",
       "    </tr>\n",
       "    <tr>\n",
       "      <th>309</th>\n",
       "      <td>Analytics in Python</td>\n",
       "      <td>Columbia University</td>\n",
       "      <td>https://www.edx.org/course/analytics-in-python</td>\n",
       "    </tr>\n",
       "  </tbody>\n",
       "</table>\n",
       "</div>"
      ],
      "text/plain": [
       "                                                  Name  \\\n",
       "62                 Basics of Computing and Programming   \n",
       "137                                 Programming Basics   \n",
       "273                        Object-Oriented Programming   \n",
       "1    Programming for Everybody (Getting Started wit...   \n",
       "309                                Analytics in Python   \n",
       "\n",
       "                     University  \\\n",
       "62          New York University   \n",
       "137                   IITBombay   \n",
       "273                   IITBombay   \n",
       "1    The University of Michigan   \n",
       "309         Columbia University   \n",
       "\n",
       "                                                  Link  \n",
       "62   https://www.edx.org/course/basics-of-computing...  \n",
       "137      https://www.edx.org/course/programming-basics  \n",
       "273  https://www.edx.org/course/object-oriented-pro...  \n",
       "1    https://www.edx.org/course/programming-for-eve...  \n",
       "309     https://www.edx.org/course/analytics-in-python  "
      ]
     },
     "execution_count": 16,
     "metadata": {},
     "output_type": "execute_result"
    }
   ],
   "source": [
    "# Function to recommend courses based on user input\n",
    "def recommend_courses(user_input, data, cosine_sim):\n",
    "    # Normalize the user input\n",
    "    user_input = user_input.lower()\n",
    "    \n",
    "    # Create a DataFrame to hold the user input\n",
    "    user_df = pd.DataFrame({'combined_features': [user_input]})\n",
    "    \n",
    "    # Vectorize the user input\n",
    "    user_tfidf = vectorizer.transform(user_df['combined_features'])\n",
    "    \n",
    "    # Calculate cosine similarity between user input and existing courses\n",
    "    user_cosine_sim = cosine_similarity(user_tfidf, tfidf_matrix)\n",
    "    \n",
    "    # Get the index of the most similar courses\n",
    "    similar_indices = user_cosine_sim[0].argsort()[-5:][::-1]  # Get top 5 recommendations\n",
    "    \n",
    "    # Return the recommended courses\n",
    "    recommended_courses = data.iloc[similar_indices]\n",
    "    return recommended_courses\n",
    "\n",
    "# Example user input to test the recommender\n",
    "user_input = \"I want to learn programming basics\"\n",
    "recommended_courses = recommend_courses(user_input, data, cosine_sim)\n",
    "\n",
    "# Display the recommended courses\n",
    "print(\"Recommended Courses:\")\n",
    "recommended_courses[['Name', 'University', 'Link']]"
   ]
  },
  {
   "cell_type": "code",
   "execution_count": 18,
   "metadata": {},
   "outputs": [
    {
     "name": "stdout",
     "output_type": "stream",
     "text": [
      "Recommended Courses:\n"
     ]
    },
    {
     "data": {
      "text/html": [
       "<div>\n",
       "<style scoped>\n",
       "    .dataframe tbody tr th:only-of-type {\n",
       "        vertical-align: middle;\n",
       "    }\n",
       "\n",
       "    .dataframe tbody tr th {\n",
       "        vertical-align: top;\n",
       "    }\n",
       "\n",
       "    .dataframe thead th {\n",
       "        text-align: right;\n",
       "    }\n",
       "</style>\n",
       "<table border=\"1\" class=\"dataframe\">\n",
       "  <thead>\n",
       "    <tr style=\"text-align: right;\">\n",
       "      <th></th>\n",
       "      <th>Name</th>\n",
       "      <th>University</th>\n",
       "      <th>Link</th>\n",
       "    </tr>\n",
       "  </thead>\n",
       "  <tbody>\n",
       "    <tr>\n",
       "      <th>382</th>\n",
       "      <td>Computer Vision Fundamentals with Watson and O...</td>\n",
       "      <td>IBM</td>\n",
       "      <td>https://www.edx.org/course/computer-vision-fun...</td>\n",
       "    </tr>\n",
       "    <tr>\n",
       "      <th>306</th>\n",
       "      <td>Computer Hardware and Operating Systems</td>\n",
       "      <td>New York University</td>\n",
       "      <td>https://www.edx.org/course/computer-hardware-a...</td>\n",
       "    </tr>\n",
       "    <tr>\n",
       "      <th>137</th>\n",
       "      <td>Programming Basics</td>\n",
       "      <td>IITBombay</td>\n",
       "      <td>https://www.edx.org/course/programming-basics</td>\n",
       "    </tr>\n",
       "    <tr>\n",
       "      <th>69</th>\n",
       "      <td>Computer Science 101</td>\n",
       "      <td>Stanford University</td>\n",
       "      <td>https://www.edx.org/course/computer-science-101</td>\n",
       "    </tr>\n",
       "    <tr>\n",
       "      <th>629</th>\n",
       "      <td>Discover Political Science</td>\n",
       "      <td>Université catholique de Louvain</td>\n",
       "      <td>https://www.edx.org/course/discover-political-...</td>\n",
       "    </tr>\n",
       "  </tbody>\n",
       "</table>\n",
       "</div>"
      ],
      "text/plain": [
       "                                                  Name  \\\n",
       "382  Computer Vision Fundamentals with Watson and O...   \n",
       "306            Computer Hardware and Operating Systems   \n",
       "137                                 Programming Basics   \n",
       "69                                Computer Science 101   \n",
       "629                         Discover Political Science   \n",
       "\n",
       "                           University  \\\n",
       "382                               IBM   \n",
       "306               New York University   \n",
       "137                         IITBombay   \n",
       "69                Stanford University   \n",
       "629  Université catholique de Louvain   \n",
       "\n",
       "                                                  Link  \n",
       "382  https://www.edx.org/course/computer-vision-fun...  \n",
       "306  https://www.edx.org/course/computer-hardware-a...  \n",
       "137      https://www.edx.org/course/programming-basics  \n",
       "69     https://www.edx.org/course/computer-science-101  \n",
       "629  https://www.edx.org/course/discover-political-...  "
      ]
     },
     "execution_count": 18,
     "metadata": {},
     "output_type": "execute_result"
    }
   ],
   "source": [
    "user_input = \"I want to learn computer vision\"\n",
    "recommended_courses = recommend_courses(user_input, data, cosine_sim)\n",
    "\n",
    "# Display the recommended courses\n",
    "print(\"Recommended Courses:\")\n",
    "recommended_courses[['Name', 'University', 'Link']]"
   ]
  }
 ],
 "metadata": {
  "kernelspec": {
   "display_name": "Python 3",
   "language": "python",
   "name": "python3"
  },
  "language_info": {
   "codemirror_mode": {
    "name": "ipython",
    "version": 3
   },
   "file_extension": ".py",
   "mimetype": "text/x-python",
   "name": "python",
   "nbconvert_exporter": "python",
   "pygments_lexer": "ipython3",
   "version": "3.10.12"
  }
 },
 "nbformat": 4,
 "nbformat_minor": 2
}
